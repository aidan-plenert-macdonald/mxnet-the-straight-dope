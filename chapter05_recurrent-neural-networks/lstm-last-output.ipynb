{
 "cells": [
  {
   "cell_type": "markdown",
   "metadata": {},
   "source": [
    "# Using just the last output of LSTM per sequence\n",
    "\n",
    "Lets imagine you want to classify sequences. Sometimes it might not make sense to classify on each element of the sequence, so you need to use just the last output (or the last N outputs) of your LSTM.\n",
    "\n",
    "Lets generate some sequences that we might care about,"
   ]
  },
  {
   "cell_type": "code",
   "execution_count": 18,
   "metadata": {},
   "outputs": [],
   "source": [
    "from __future__ import print_function\n",
    "import mxnet as mx\n",
    "import numpy as np\n",
    "from mxnet import nd, autograd, sym\n",
    "from mxnet import gluon\n",
    "\n",
    "X, y = list(zip(*[(1.0*(np.random.random((np.random.randint(low=5, high=100),)) > label), label)\n",
    "                  for label in np.random.choice([0.2, 0.5, 0.8], size=1000)]))"
   ]
  },
  {
   "cell_type": "markdown",
   "metadata": {},
   "source": [
    "Lets plot a couple of these sequences to understand what they look like,"
   ]
  },
  {
   "cell_type": "code",
   "execution_count": 21,
   "metadata": {},
   "outputs": [
    {
     "data": {
      "image/png": "[encoded data removed]",
      "text/plain": [
       "<matplotlib.figure.Figure at 0x115e50198>"
      ]
     },
     "metadata": {},
     "output_type": "display_data"
    }
   ],
   "source": [
    "import matplotlib.pyplot as plt\n",
    "\n",
    "for i, x in enumerate(X[:4]):\n",
    "    plt.plot(x + 2*i, 'o')\n",
    "\n",
    "plt.legend(y[:4])\n",
    "plt.show()"
   ]
  },
  {
   "cell_type": "markdown",
   "metadata": {},
   "source": [
    "The basic idea is that some sequences have more \"ups\" than \"downs\" and each sequence is a different length. We'd like to be able to classify each sequence into the percent of ups to downs.\n",
    "\n",
    "Lets define a new kind of network."
   ]
  },
  {
   "cell_type": "code",
   "execution_count": null,
   "metadata": {},
   "outputs": [],
   "source": [
    "class LastNet(gluon.Block):\n",
    "    def __init__(self, recurrent_width, forward_width, **kwargs):\n",
    "        super(LastNet, self).__init__(**kwargs)\n",
    "        with self.name_scope():\n",
    "            self._rnn = gluon.rnn.LSTM(recurrent_width)\n",
    "            self._nn  = gluon.nn.Dense(forward_width)\n",
    "    \n",
    "    def forward(x):\n",
    "        for seq in x:\n",
    "            h = self._rnn(seq)\n",
    "            outs.append(self._nn(h[h.shape[0]-1]))\n",
    "        return nd.array(outs)"
   ]
  },
  {
   "cell_type": "markdown",
   "metadata": {},
   "source": [
    "It is important to check that the gradients will get computed properly. I was skeptical, so I wrote this quick test that constructs an arbitrary sequence, pushes it through an LSTM, and then computes the loss using only the last output."
   ]
  },
  {
   "cell_type": "code",
   "execution_count": 68,
   "metadata": {},
   "outputs": [
    {
     "name": "stdout",
     "output_type": "stream",
     "text": [
      "Gradient using only last output for sequence length 1 \n",
      "\tlstm71_l0_i2h_weight:[-0.07942455  0.         -3.01982355 -0.08167812] \n",
      "\tlstm71_l0_h2h_weight:[ 0.  0.  0.  0.] \n",
      "\tlstm71_l0_i2h_bias:[-0.02647485 -0.         -1.00660789 -0.02722604] \n",
      "\tlstm71_l0_h2h_bias:[-0.02647485 -0.         -1.00660789 -0.02722604] \n",
      "\n",
      "\n",
      "Gradient using only last output for sequence length 2 \n",
      "\tlstm72_l0_i2h_weight:[ 0.23842788  0.07183572 -3.870646    0.23373431] \n",
      "\tlstm72_l0_h2h_weight:[-0.00124724 -0.00056581  0.02016307 -0.00182499] \n",
      "\tlstm72_l0_i2h_bias:[ 0.07947596  0.02394524 -1.29021537  0.07791144] \n",
      "\tlstm72_l0_h2h_bias:[ 0.07947596  0.02394524 -1.29021537  0.07791144] \n",
      "\n",
      "\n"
     ]
    }
   ],
   "source": [
    "for length in [1, 2]:\n",
    "    x = nd.array([3]*length).reshape((-1, 1, 1))\n",
    "\n",
    "    layer = gluon.rnn.LSTM(1)\n",
    "    layer.initialize()\n",
    "    with autograd.record():\n",
    "        out = layer(x)\n",
    "        loss = nd.mean((out[out.shape[0]-1] - 2)**2)\n",
    "    loss.backward()\n",
    "\n",
    "    print('Gradient using only last output for sequence length', length, \n",
    "          *['\\n\\t%s:%s' % (name, p.grad().asnumpy().flatten()) for name, p in layer.params.items()], '\\n\\n')"
   ]
  },
  {
   "cell_type": "markdown",
   "metadata": {},
   "source": [
    "Note that the hidden to hidden weights (ie. `h2h_weight`) only have a gradient when the sequence is length 2 or more. So I feel comfortable assuming that the gradients are computed properly."
   ]
  },
  {
   "cell_type": "code",
   "execution_count": null,
   "metadata": {},
   "outputs": [],
   "source": [
    "ctx = mx.cpu()\n",
    "\n",
    "net = LastNet(100, 3)\n",
    "net.collect_params().initialize(ctx=ctx)\n",
    "softmax_cross_entropy = gluon.loss.SoftmaxCrossEntropyLoss()\n",
    "\n",
    "trainer = gluon.Trainer(net.collect_params(), 'sgd', {'learning_rate': .1})\n",
    "for epoch in range(10):\n",
    "    with autograd.record():\n",
    "        "
   ]
  }
 ],
 "metadata": {
  "kernelspec": {
   "display_name": "Python 3",
   "language": "python",
   "name": "python3"
  },
  "language_info": {
   "codemirror_mode": {
    "name": "ipython",
    "version": 3
   },
   "file_extension": ".py",
   "mimetype": "text/x-python",
   "name": "python",
   "nbconvert_exporter": "python",
   "pygments_lexer": "ipython3",
   "version": "3.6.3"
  }
 },
 "nbformat": 4,
 "nbformat_minor": 2
}
