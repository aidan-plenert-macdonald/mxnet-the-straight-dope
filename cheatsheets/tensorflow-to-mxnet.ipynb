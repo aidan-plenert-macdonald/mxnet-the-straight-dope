{
 "cells": [
  {
   "cell_type": "markdown",
   "metadata": {},
   "source": [
    "# So you want to convert Tensorflow to MxNet, eh? "
   ]
  },
  {
   "cell_type": "markdown",
   "metadata": {},
   "source": [
    "Lets try parsing the API's and generate a mapping between the two. This might take a while"
   ]
  },
  {
   "cell_type": "code",
   "execution_count": null,
   "metadata": {},
   "outputs": [],
   "source": [
    "import requests\n",
    "from bs4 import BeautifulSoup\n",
    "\n",
    "def soupify(url):\n",
    "    return BeautifulSoup(requests.get(url).text, 'html.parser')\n",
    "\n",
    "tf_api = {}\n",
    "for a in soupify(\"https://www.tensorflow.org/api_docs/python/\").find_all('a', href=True):\n",
    "    if 'api_docs/python/tf' in a['href']:\n",
    "        tf_api[a.text] = soupify(a['href']).find('article', attrs={'class':'devsite-article-inner'}).text\n",
    "\n",
    "print(tf_api)"
   ]
  },
  {
   "cell_type": "code",
   "execution_count": null,
   "metadata": {},
   "outputs": [],
   "source": [
    "mx_api = {}\n",
    "for a in soupify(\"https://mxnet.incubator.apache.org/api/python/index.html\").find_all('a', href=True):\n",
    "    if 'api/python/' in a['href'] and a['href'].split('#')[0] not in mx_api:\n",
    "        for dl in soupify(a['href']).find_all('dl', attrs={'class':'method'}):\n",
    "            mx_api[dl.find('dt')['id']] = dl.text\n",
    "\n",
    "print(mx_api)"
   ]
  }
 ],
 "metadata": {
  "kernelspec": {
   "display_name": "Python 3",
   "language": "python",
   "name": "python3"
  },
  "language_info": {
   "codemirror_mode": {
    "name": "ipython",
    "version": 3
   },
   "file_extension": ".py",
   "mimetype": "text/x-python",
   "name": "python",
   "nbconvert_exporter": "python",
   "pygments_lexer": "ipython3",
   "version": "3.6.2"
  }
 },
 "nbformat": 4,
 "nbformat_minor": 2
}
