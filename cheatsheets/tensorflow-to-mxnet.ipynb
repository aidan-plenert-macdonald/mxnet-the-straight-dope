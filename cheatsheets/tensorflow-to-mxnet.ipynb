{
 "cells": [
  {
   "cell_type": "markdown",
   "metadata": {},
   "source": [
    "# So you want to convert Tensorflow to MxNet, eh? "
   ]
  },
  {
   "cell_type": "markdown",
   "metadata": {},
   "source": [
    "Lets try parsing the API's and generate a mapping between the two. This might take a while"
   ]
  },
  {
   "cell_type": "code",
   "execution_count": 1,
   "metadata": {},
   "outputs": [
    {
     "name": "stderr",
     "output_type": "stream",
     "text": [
      "/usr/local/lib/python3.6/site-packages/tensorflow/python/util/tf_inspect.py:45: DeprecationWarning: inspect.getargspec() is deprecated, use inspect.signature() or inspect.getfullargspec()\n",
      "  if d.decorator_argspec is not None), _inspect.getargspec(target))\n",
      "/usr/local/lib/python3.6/site-packages/tensorflow/python/util/tf_inspect.py:45: DeprecationWarning: inspect.getargspec() is deprecated, use inspect.signature() or inspect.getfullargspec()\n",
      "  if d.decorator_argspec is not None), _inspect.getargspec(target))\n"
     ]
    }
   ],
   "source": [
    "import mxnet as mx\n",
    "import tensorflow as tf\n",
    "import pkgutil, types, pprint\n",
    "import numpy as np\n",
    "\n",
    "def doc_dump(base, docs={}):\n",
    "    try:\n",
    "        for a in dir(eval(base)):\n",
    "            if isinstance(eval(base).__dict__.get(a), types.FunctionType):\n",
    "                doc = eval(base).__dict__.get(a).__doc__\n",
    "                docs[base + '.' + a] = doc if doc else ''\n",
    "        for importer, modname, ispkg in pkgutil.walk_packages(path=eval(base).__path__,\n",
    "                                                              prefix=base + '.',\n",
    "                                                              onerror=lambda e: None):\n",
    "            docs = doc_dump(modname, docs)\n",
    "    except Exception as e:\n",
    "        pass\n",
    "    return docs\n",
    "        \n",
    "tf_docs = doc_dump('tf', {})\n",
    "mx_docs = doc_dump('mx', {})"
   ]
  },
  {
   "cell_type": "markdown",
   "metadata": {},
   "source": [
    "We will just do an n-gram model for clustering. we will use 3-grams"
   ]
  },
  {
   "cell_type": "code",
   "execution_count": 2,
   "metadata": {},
   "outputs": [],
   "source": [
    "TOTAL_FEATURES = 1000\n",
    "N_GRAM_WIDTHS = [2, 3, 4]\n",
    "\n",
    "def tfidf(str_list, ngram_width=3):\n",
    "    tf = {}\n",
    "    for s in str_list:\n",
    "        for start, end in zip(range(len(s) - ngram_width),\n",
    "                              range(ngram_width, len(s))):\n",
    "            if s[start:end] not in tf:\n",
    "                tf[s[start:end]] = 0\n",
    "            tf[s[start:end]] += 1\n",
    "    \n",
    "    idf = {}\n",
    "    for t in tf.keys():\n",
    "        cnt = 0\n",
    "        for s in str_list:\n",
    "            if t in s:\n",
    "                cnt += 1\n",
    "            idf[t] = len(str_list)/(cnt + 1.0)\n",
    "    \n",
    "    return {t:tf[t]*idf[t] for t in tf.keys()}\n",
    "\n",
    "ranks = {}\n",
    "for N in N_GRAM_WIDTHS:\n",
    "    ranks.update(tfidf(list(tf_docs.values()) + list(mx_docs.values()), ngram_width=N))\n",
    "ngram_keys = [t[1] for t in sorted([(v, k) for k, v in ranks.items()])[-TOTAL_FEATURES:]]"
   ]
  },
  {
   "cell_type": "code",
   "execution_count": 8,
   "metadata": {},
   "outputs": [],
   "source": [
    "tf_labels, tf_values = zip(*list(tf_docs.items()))\n",
    "mx_labels, mx_values = zip(*list(mx_docs.items()))\n",
    "\n",
    "tf_data = mx.nd.array([[s.count(k)\n",
    "                        for k in ngram_keys]\n",
    "                       for s in tf_values]).tostype('csr')\n",
    "mx_data = mx.nd.array([[s.count(k)\n",
    "                        for k in ngram_keys]\n",
    "                       for s in mx_values]).tostype('csr')"
   ]
  },
  {
   "cell_type": "code",
   "execution_count": 28,
   "metadata": {},
   "outputs": [
    {
     "name": "stdout",
     "output_type": "stream",
     "text": [
      "0.564833 0.226674\n",
      "{'tf.contrib.grid_rnn.namedtuple': ['mx.recordio.namedtuple',\n",
      "                                    'mx.io.namedtuple',\n",
      "                                    'mx.model.namedtuple',\n",
      "                                    'mx.test_utils.contextmanager',\n",
      "                                    'mx.recordio.unpack_img'],\n",
      " 'tf.contrib.grid_rnn.python.ops.grid_rnn_cell.namedtuple': ['mx.recordio.namedtuple',\n",
      "                                                             'mx.io.namedtuple',\n",
      "                                                             'mx.model.namedtuple',\n",
      "                                                             'mx.test_utils.contextmanager',\n",
      "                                                             'mx.recordio.unpack_img'],\n",
      " 'tf.contrib.keras.api.keras.backend.eval': ['mx.ndarray.ndarray.power',\n",
      "                                             'mx.ndarray.power',\n",
      "                                             'mx.ndarray.ndarray.modulo',\n",
      "                                             'mx.ndarray.modulo',\n",
      "                                             'mx.ndarray.add'],\n",
      " 'tf.contrib.keras.api.keras.backend.eye': ['mx.ndarray.greater',\n",
      "                                            'mx.ndarray.ndarray.greater',\n",
      "                                            'mx.ndarray.lesser',\n",
      "                                            'mx.ndarray.ndarray.lesser',\n",
      "                                            'mx.ndarray.not_equal'],\n",
      " 'tf.contrib.keras.api.keras.backend.variable': ['mx.symbol.symbol.pow',\n",
      "                                                 'mx.symbol.pow',\n",
      "                                                 'mx.symbol.minimum',\n",
      "                                                 'mx.symbol.symbol.minimum',\n",
      "                                                 'mx.symbol.symbol.maximum'],\n",
      " 'tf.contrib.layers.conv2d_in_plane': ['mx.image.image._get_interp_method',\n",
      "                                       'mx.image.CreateDetAugmenter',\n",
      "                                       'mx.image.detection.CreateDetAugmenter',\n",
      "                                       'mx.image.image.resize_short',\n",
      "                                       'mx.image.resize_short'],\n",
      " 'tf.contrib.layers.convolution2d_in_plane': ['mx.image.image._get_interp_method',\n",
      "                                              'mx.image.CreateDetAugmenter',\n",
      "                                              'mx.image.detection.CreateDetAugmenter',\n",
      "                                              'mx.image.image.resize_short',\n",
      "                                              'mx.image.resize_short'],\n",
      " 'tf.contrib.slim.conv2d_in_plane': ['mx.image.image._get_interp_method',\n",
      "                                     'mx.image.CreateDetAugmenter',\n",
      "                                     'mx.image.detection.CreateDetAugmenter',\n",
      "                                     'mx.image.image.resize_short',\n",
      "                                     'mx.image.resize_short'],\n",
      " 'tf.contrib.slim.convolution2d_in_plane': ['mx.image.image._get_interp_method',\n",
      "                                            'mx.image.CreateDetAugmenter',\n",
      "                                            'mx.image.detection.CreateDetAugmenter',\n",
      "                                            'mx.image.image.resize_short',\n",
      "                                            'mx.image.resize_short'],\n",
      " 'tf.contrib.slim.python.slim.queues.contextmanager': ['mx.test_utils.contextmanager',\n",
      "                                                       'mx._ctypes.symbol.c_str',\n",
      "                                                       'mx.base.c_str',\n",
      "                                                       'mx.io.c_str',\n",
      "                                                       'mx.operator.c_str'],\n",
      " 'tf.matmul': ['mx.symbol.one_hot',\n",
      "               'mx.symbol.op.one_hot',\n",
      "               'mx.ndarray.op.one_hot',\n",
      "               'mx.ndarray.one_hot',\n",
      "               'mx.test_utils.contextmanager'],\n",
      " 'tf.reverse': ['mx.symbol.op.swapaxes',\n",
      "                'mx.symbol.SwapAxis',\n",
      "                'mx.symbol.op.SwapAxis',\n",
      "                'mx.symbol.swapaxes',\n",
      "                'mx.symbol.op.transpose'],\n",
      " 'tf.reverse_v2': ['mx.symbol.op.swapaxes',\n",
      "                   'mx.symbol.SwapAxis',\n",
      "                   'mx.symbol.op.SwapAxis',\n",
      "                   'mx.symbol.swapaxes',\n",
      "                   'mx.symbol.op.transpose'],\n",
      " 'tf.transpose': ['mx.test_utils.contextmanager',\n",
      "                  'mx.symbol.one_hot',\n",
      "                  'mx.symbol.op.one_hot',\n",
      "                  'mx.ndarray.one_hot',\n",
      "                  'mx.ndarray.op.one_hot']}\n"
     ]
    }
   ],
   "source": [
    "cos_dist = mx.nd.dot(tf_data, mx_data.T)/mx.nd.sqrt(mx.nd.sum(tf_data * tf_data, axis=1).reshape((-1, 1)) * \n",
    "                                                    mx.nd.sum(mx_data * mx_data, axis=1).reshape((1, -1)))\n",
    "cos_dist = np.nan_to_num(cos_dist.asnumpy())\n",
    "mu, sig = np.mean(cos_dist), np.std(cos_dist)\n",
    "print(mu, sig)\n",
    "mapping = {}\n",
    "for i, tf_label in enumerate(tf_labels):\n",
    "    inds = np.argsort(cos_dist[i, :])\n",
    "    if cos_dist[i, inds[-4]] > mu + 1.7*sig:\n",
    "        mapping[tf_label] = list(reversed([mx_labels[j] for j in inds[-5:]]))\n",
    "pprint.pprint(mapping)"
   ]
  }
 ],
 "metadata": {
  "kernelspec": {
   "display_name": "Python 3",
   "language": "python",
   "name": "python3"
  },
  "language_info": {
   "codemirror_mode": {
    "name": "ipython",
    "version": 3
   },
   "file_extension": ".py",
   "mimetype": "text/x-python",
   "name": "python",
   "nbconvert_exporter": "python",
   "pygments_lexer": "ipython3",
   "version": "3.6.2"
  }
 },
 "nbformat": 4,
 "nbformat_minor": 2
}
