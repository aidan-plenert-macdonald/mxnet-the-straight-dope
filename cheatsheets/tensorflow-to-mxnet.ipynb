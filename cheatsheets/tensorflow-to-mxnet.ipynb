{
 "cells": [
  {
   "cell_type": "markdown",
   "metadata": {},
   "source": [
    "# So you want to convert Tensorflow to MxNet, eh? "
   ]
  },
  {
   "cell_type": "markdown",
   "metadata": {},
   "source": [
    "Lets try parsing the API's and generate a mapping between the two. This might take a while"
   ]
  },
  {
   "cell_type": "code",
   "execution_count": 5,
   "metadata": {},
   "outputs": [],
   "source": [
    "import mxnet as mx\n",
    "import tensorflow as tf\n",
    "import pkgutil, types, pprint\n",
    "import numpy as np\n",
    "\n",
    "def doc_dump(base, docs={}):\n",
    "    try:\n",
    "        for a in dir(eval(base)):\n",
    "            if isinstance(eval(base).__dict__.get(a), types.FunctionType):\n",
    "                doc = eval(base).__dict__.get(a).__doc__\n",
    "                docs[base + '.' + a] = base + '.' + a + (doc if doc else '')\n",
    "        for importer, modname, ispkg in pkgutil.walk_packages(path=eval(base).__path__,\n",
    "                                                              prefix=base + '.',\n",
    "                                                              onerror=lambda e: None):\n",
    "            docs = doc_dump(modname, docs)\n",
    "    except Exception as e:\n",
    "        pass\n",
    "    return docs\n",
    "        \n",
    "tf_docs = doc_dump('tf', {})\n",
    "mx_docs = doc_dump('mx', {})"
   ]
  },
  {
   "cell_type": "code",
   "execution_count": 6,
   "metadata": {},
   "outputs": [],
   "source": [
    "tf_labels, tf_values = zip(*list(tf_docs.items()))\n",
    "mx_labels, mx_values = zip(*list(mx_docs.items()))"
   ]
  },
  {
   "cell_type": "code",
   "execution_count": null,
   "metadata": {},
   "outputs": [],
   "source": [
    "HIDDEN_UNITS = 100\n",
    "LAYERS = 1\n",
    "BATCH_SIZE = 1\n",
    "INPUT_SIZE = 1\n",
    "\n",
    "net = mx.gluon.rnn.LSTM(HIDDEN_UNITS, LAYERS, input_size=1)\n",
    "ctx = mx.cpu()\n",
    "net.collect_params().initialize(mx.init.Xavier(), ctx=ctx)\n",
    "\n",
    "trainer = mx.gluon.Trainer(net.collect_params(), 'sgd', {'learning_rate': .1})\n",
    "l2loss = mx.gluon.loss.L2Loss()\n",
    "\n",
    "for epoch in range(10):\n",
    "    for i, x in enumerate(tf_values + mx_values):\n",
    "        for j, y in enumerate(tf_values + mx_values):\n",
    "            with mx.autograd.record():\n",
    "                output_x = net(mx.nd.array([ord(xx) for xx in x]).reshape((-1, BATCH_SIZE, INPUT_SIZE)))\n",
    "                output_y = net(mx.nd.array([ord(yy) for yy in y]).reshape((-1, BATCH_SIZE, INPUT_SIZE)))\n",
    "                # Just compute loss on last output\n",
    "                loss = (-1 if i == j else 1) * l2loss(output_x[len(x)-1, :, :], output_y[len(y)-1, :, :])\n",
    "                loss.backward()\n",
    "            trainer.step(BATCH_SIZE)\n",
    "            print(mx.nd.mean(loss).asscalar())\n",
    "        raise"
   ]
  }
 ],
 "metadata": {
  "kernelspec": {
   "display_name": "Python 3",
   "language": "python",
   "name": "python3"
  },
  "language_info": {
   "codemirror_mode": {
    "name": "ipython",
    "version": 3
   },
   "file_extension": ".py",
   "mimetype": "text/x-python",
   "name": "python",
   "nbconvert_exporter": "python",
   "pygments_lexer": "ipython3",
   "version": "3.6.2"
  }
 },
 "nbformat": 4,
 "nbformat_minor": 2
}
