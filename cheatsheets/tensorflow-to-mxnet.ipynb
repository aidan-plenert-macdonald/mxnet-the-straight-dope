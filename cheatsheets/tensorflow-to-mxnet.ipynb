{
 "cells": [
  {
   "cell_type": "markdown",
   "metadata": {},
   "source": [
    "# So you want to convert Tensorflow to MxNet, eh? "
   ]
  },
  {
   "cell_type": "markdown",
   "metadata": {},
   "source": [
    "Lets try parsing the API's and generate a mapping between the two. This might take a while"
   ]
  },
  {
   "cell_type": "code",
   "execution_count": 32,
   "metadata": {},
   "outputs": [],
   "source": [
    "import mxnet as mx\n",
    "import tensorflow as tf\n",
    "import pkgutil, types, pprint\n",
    "import numpy as np\n",
    "from random import shuffle\n",
    "\n",
    "def doc_dump(base, docs={}):\n",
    "    try:\n",
    "        for a in dir(eval(base)):\n",
    "            if isinstance(eval(base).__dict__.get(a), types.FunctionType):\n",
    "                doc = eval(base).__dict__.get(a).__doc__\n",
    "                docs[base + '.' + a] = base + '.' + a + (doc if doc else '')\n",
    "        for importer, modname, ispkg in pkgutil.walk_packages(path=eval(base).__path__,\n",
    "                                                              prefix=base + '.',\n",
    "                                                              onerror=lambda e: None):\n",
    "            docs = doc_dump(modname, docs)\n",
    "    except Exception as e:\n",
    "        pass\n",
    "    return docs\n",
    "        \n",
    "tf_docs = doc_dump('tf', {})\n",
    "mx_docs = doc_dump('mx', {})"
   ]
  },
  {
   "cell_type": "code",
   "execution_count": 33,
   "metadata": {},
   "outputs": [],
   "source": [
    "SUB_SAMPLE = -1\n",
    "tf_labels, tf_values = zip(*list(tf_docs.items())[:SUB_SAMPLE])\n",
    "mx_labels, mx_values = zip(*list(mx_docs.items())[:SUB_SAMPLE])"
   ]
  },
  {
   "cell_type": "code",
   "execution_count": null,
   "metadata": {},
   "outputs": [],
   "source": [
    "HIDDEN_UNITS = 100\n",
    "LAYERS = 1\n",
    "BATCH_SIZE = 1\n",
    "INPUT_SIZE = 1\n",
    "\n",
    "from scipy import sparse\n",
    "from scipy.sparse import linalg as s_linalg\n",
    "\n",
    "W = sparse.rand(HIDDEN_UNITS, HIDDEN_UNITS, density=0.1)\n",
    "W = W*np.real(0.9/max(s_linalg.eigs(W)[0]))\n",
    "U = 0.8*sparse.rand(HIDDEN_UNITS, INPUT_SIZE, density=0.1)\n",
    "\n",
    "tf_states = []\n",
    "for v in tf_values:\n",
    "    h = np.zeros((HIDDEN_UNITS, 1))\n",
    "    for c in v:\n",
    "        h = np.tanh(W.dot(h) + U*ord(c))\n",
    "    tf_states.append(mx.nd.array(h))\n",
    "    \n",
    "mx_states = []\n",
    "for v in mx_values:\n",
    "    h = np.zeros((HIDDEN_UNITS, 1))\n",
    "    for c in v:\n",
    "        h = np.tanh(W.dot(h) + U*ord(c))\n",
    "    mx_states.append(mx.nd.array(h))"
   ]
  },
  {
   "cell_type": "code",
   "execution_count": null,
   "metadata": {},
   "outputs": [],
   "source": [
    "net = mx.gluon.nn.Dense(HIDDEN_UNITS)\n",
    "ctx = mx.cpu()\n",
    "net.collect_params().initialize(mx.init.Xavier(), ctx=ctx)\n",
    "\n",
    "trainer = mx.gluon.Trainer(net.collect_params(), 'sgd', {'learning_rate': .1})\n",
    "l2loss = mx.gluon.loss.L2Loss()\n",
    "\n",
    "for epoch in range(10):\n",
    "    avg_loss = 0.0\n",
    "    for i, x in enumerate(tf_states + mx_states):\n",
    "        for j, y in enumerate(tf_states + mx_states):\n",
    "            with mx.autograd.record():\n",
    "                output_x = net(x)\n",
    "                output_y = net(y)\n",
    "                # Just compute loss on last output\n",
    "                loss = (-1 if i == j else 1) * l2loss(output_x, output_y)\n",
    "                loss.backward()\n",
    "            trainer.step(BATCH_SIZE)\n",
    "            avg_loss += mx.nd.mean(loss).asscalar()\n",
    "    \n",
    "    print(epoch, avg_loss/(len(tf_values) + len(mx_values))**2)\n",
    "    for i in np.random.randint(len(tf_values), size=5):\n",
    "        losses = []\n",
    "        for j in range(len(mx_values)):\n",
    "            output_x = net(x.reshape((-1, BATCH_SIZE, INPUT_SIZE)))\n",
    "            output_y = net(y.reshape((-1, BATCH_SIZE, INPUT_SIZE)))\n",
    "            losses.append((l2loss(output_x[len(x)-1, :, :], output_y[len(y)-1, :, :]), j))\n",
    "        print(tf_labels[i], ' ==> ', [mx_labels[j] for l, j in sorted(losses)[:3]])\n",
    "    \n",
    "    \n",
    "    "
   ]
  }
 ],
 "metadata": {
  "kernelspec": {
   "display_name": "Python 3",
   "language": "python",
   "name": "python3"
  },
  "language_info": {
   "codemirror_mode": {
    "name": "ipython",
    "version": 3
   },
   "file_extension": ".py",
   "mimetype": "text/x-python",
   "name": "python",
   "nbconvert_exporter": "python",
   "pygments_lexer": "ipython3",
   "version": "3.6.2"
  }
 },
 "nbformat": 4,
 "nbformat_minor": 2
}
